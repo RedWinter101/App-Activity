{
 "cells": [
  {
   "cell_type": "code",
   "execution_count": 17,
   "metadata": {},
   "outputs": [],
   "source": [
    "import mediapipe as mp\n",
    "import cv2\n",
    "import numpy as np"
   ]
  },
  {
   "cell_type": "code",
   "execution_count": 18,
   "metadata": {},
   "outputs": [],
   "source": [
    "def get_unique(c):\n",
    "    temp_list = list(c)\n",
    "    temp_set = set(c)\n",
    "    for t in temp_list:\n",
    "        temp_set.add(t[0])\n",
    "        temp_set.add(t[1])\n",
    "    return list(temp_set)"
   ]
  },
  {
   "cell_type": "code",
   "execution_count": 19,
   "metadata": {},
   "outputs": [],
   "source": [
    "cap = cv2.VideoCapture(0)\n",
    "mp_face_mesh = mp.solutions.face_mesh\n",
    "\n",
    "connections_irises = mp_face_mesh.FACEMESH_IRISES\n",
    "irises_indices = get_unique(connections_irises)\n",
    "connections_face_oval = mp_face_mesh.FACEMESH_FACE_OVAL\n",
    "face_oval_indices = get_unique(connections_face_oval)"
   ]
  },
  {
   "cell_type": "code",
   "execution_count": 20,
   "metadata": {},
   "outputs": [
    {
     "ename": "TypeError",
     "evalue": "'NoneType' object is not iterable",
     "output_type": "error",
     "traceback": [
      "\u001b[1;31m---------------------------------------------------------------------------\u001b[0m",
      "\u001b[1;31mTypeError\u001b[0m                                 Traceback (most recent call last)",
      "Cell \u001b[1;32mIn [20], line 14\u001b[0m\n\u001b[0;32m     11\u001b[0m \u001b[38;5;28;01mif\u001b[39;00m ret \u001b[38;5;241m==\u001b[39m \u001b[38;5;28;01mFalse\u001b[39;00m:\n\u001b[0;32m     12\u001b[0m     \u001b[38;5;28;01mbreak\u001b[39;00m\n\u001b[1;32m---> 14\u001b[0m \u001b[38;5;28;01mfor\u001b[39;00m face_landmark \u001b[38;5;129;01min\u001b[39;00m outputs\u001b[38;5;241m.\u001b[39mmulti_face_landmarks:\n\u001b[0;32m     15\u001b[0m     d \u001b[38;5;241m=\u001b[39m {}\n\u001b[0;32m     16\u001b[0m     \u001b[38;5;28;01mfor\u001b[39;00m index \u001b[38;5;129;01min\u001b[39;00m irises_indices:\n",
      "\u001b[1;31mTypeError\u001b[0m: 'NoneType' object is not iterable"
     ]
    }
   ],
   "source": [
    "with mp_face_mesh.FaceMesh(\n",
    "    static_image_mode = False,\n",
    "    max_num_faces = 2 ,\n",
    "    refine_landmarks = True,\n",
    "    min_detection_confidence = 0.5) as face_mesh:\n",
    "\n",
    "    while(cap.isOpened()):\n",
    "        ret , frame = cap.read()\n",
    "        image_rgb = cv2.cvtColor(frame, cv2.COLOR_BGR2RGB)\n",
    "        outputs = face_mesh.process(image_rgb)\n",
    "        if ret == False:\n",
    "            break\n",
    "        \n",
    "        for face_landmark in outputs.multi_face_landmarks:\n",
    "            d = {}\n",
    "            for index in irises_indices:\n",
    "                x = int(lms[index].x * img.shape[1])\n",
    "                y = int(lms[index].y * img.shape[0])\n",
    "                d[index] = [x , y]\n",
    "            for index in irises_indices:\n",
    "                cv2.circle(black , (d[index][0] , d[index][1]),\n",
    "                            2 , (0 , 255 , 0) , -1)\n",
    "            for conn in list(connections_irises):\n",
    "                cv2.circle(black,\n",
    "                (d[conn[0]][0] , d[conn[0]][1]) ,\n",
    "                (d[conn[1]][0] , d[conn[1]][1]) ,\n",
    "                (0 , 0 , 255) , 1)\n",
    "\n",
    "            cv2.imshow(\"Mesh\", frame)\n",
    "            if cv2.waitKey(5) & 0xFF == 27:\n",
    "                break\n",
    "\n",
    "cap.release()\n",
    "cv2.destroyAllWindows()\n"
   ]
  }
 ],
 "metadata": {
  "kernelspec": {
   "display_name": "Python 3.10.2 64-bit",
   "language": "python",
   "name": "python3"
  },
  "language_info": {
   "codemirror_mode": {
    "name": "ipython",
    "version": 3
   },
   "file_extension": ".py",
   "mimetype": "text/x-python",
   "name": "python",
   "nbconvert_exporter": "python",
   "pygments_lexer": "ipython3",
   "version": "3.10.2"
  },
  "orig_nbformat": 4,
  "vscode": {
   "interpreter": {
    "hash": "4002a90e3d0d102656483c9c5c24dfde6ccbd5848c9305c367f0ddc7b20ddd9a"
   }
  }
 },
 "nbformat": 4,
 "nbformat_minor": 2
}
