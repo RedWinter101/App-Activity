{
 "cells": [
  {
   "cell_type": "code",
   "execution_count": 337,
   "metadata": {},
   "outputs": [],
   "source": [
    "import cv2\n",
    "import matplotlib.pyplot as plt\n",
    "import mediapipe as mp\n",
    "import numpy as np\n",
    "from scipy.spatial import distance as dis\n",
    "#import pyttsx3\n",
    "import time\n",
    "import os\n",
    "from mediapipe.python.solutions.drawing_utils import _normalized_to_pixel_coordinates as denormalize_coordinates\n"
   ]
  },
  {
   "cell_type": "code",
   "execution_count": 338,
   "metadata": {},
   "outputs": [],
   "source": [
    "def draw_landmarks(image, outputs, land_mark, color):\n",
    "    height, width =image.shape[:2]\n",
    "             \n",
    "    for face in land_mark:\n",
    "        point = outputs.multi_face_landmarks[0].landmark[face]\n",
    "        \n",
    "        point_scale = ((int)(point.x * width), (int)(point.y*height))\n",
    "        \n",
    "        cv2.circle(image, point_scale, 1, color, 1)"
   ]
  },
  {
   "cell_type": "code",
   "execution_count": 339,
   "metadata": {},
   "outputs": [],
   "source": [
    "face_mesh = mp.solutions.face_mesh\n",
    "draw_utils = mp.solutions.drawing_utils\n",
    "landmark_style = draw_utils.DrawingSpec((0,255,0), thickness=1, circle_radius=1)\n",
    "connection_style = draw_utils.DrawingSpec((0,0,255), thickness=1, circle_radius=1)"
   ]
  },
  {
   "cell_type": "code",
   "execution_count": 340,
   "metadata": {},
   "outputs": [],
   "source": [
    "STATIC_IMAGE = False\n",
    "MAX_NO_FACES = 1\n",
    "DETECTION_CONFIDENCE = 0.6\n",
    "TRACKING_CONFIDENCE = 0.5\n",
    "LBLUE = (255,255,0)\n",
    "WHITE = (255,255,255)\n",
    "COLOR_RED = (0,0,255)\n",
    "COLOR_BLUE = (255,0,0)\n",
    "COLOR_GREEN = (0,255,0)\n",
    "PURPLE = (255,0,255)\n",
    "COLOR_M = (0,100,0)\n",
    "COLOR_A = (200,0,0)\n",
    "\n",
    "LIPS=[ 61, 146, 91, 181, 84, 17, 314, 405, 321, 375,291, 308, 324, 318, 402, 317, 14, 87, 178, 88, 95,\n",
    "       185, 40, 39, 37,0 ,267 ,269 ,270 ,409, 415, 310, 311, 312, 13, 82, 81, 42, 183, 78 ]\n",
    "\n",
    "#RIGHT_EYE = [ 33, 7, 163, 144, 145, 153, 154, 155, 133, 173, 157, 158, 159, 160, 161 , 246 ]\n",
    "#LEFT_EYE = [ 362, 382, 381, 380, 374, 373, 390, 249, 263, 466, 388, 387, 386, 385,384, 398 ]\n",
    "\n",
    "FORHEAD = [10, 338, 297, 332, 284, 251, 21, 54, 103, 67, 109, 21,63,105,66,107,9,336,296,334,293,\n",
    "           104,69,108,151,337,299,333]\n",
    "\n",
    "NOSE = [8,193,244,128,114,217,198,209,129,203,98,97,2,326,327,423,358,429,420,437,343,357,465,417,\n",
    "        168,6,197,195,5,4,1]\n",
    "\n",
    "LIP = [57,186,92,165,167,164,393,391,322,410,287,273,335,406,313,18,83,182,106,43]\n",
    "\n",
    "CHIN = [210,169,150,149,176,148,152,377,400,378,379,430,394,\n",
    "        202,204,194,201,200,421,418,424,422]\n",
    "\n",
    "RIGHT_CHEEK = [212,117,119,47,142,206,216,136,172, 58, 132, 93, 234]\n",
    "LEFT_CHEEK = [432,454, 346, 348,277,371,426,436,397,288,361,323,365]\n",
    "\n",
    "RIGHT_EYE = [189,55,65,52,53,70,156,35,31,228,229,230,231,232,233,231]\n",
    "LEFT_EYE = [413,285,295,282,283,300,383,265,261,448,449,450,451,452,453]\n",
    "#LEFT_EYE_TOP_BOTTOM = [386, 374]\n",
    "#LEFT_EYE_LEFT_RIGHT = [263, 362]\n",
    "\n",
    "#RIGHT_EYE_TOP_BOTTOM = [159, 145]\n",
    "#RIGHT_EYE_LEFT_RIGHT = [133, 33]\n",
    "\n",
    "#UPPER_LOWER_LIPS = [13, 14]\n",
    "#LEFT_RIGHT_LIPS = [78, 308]\n",
    "\n",
    "\n",
    "FACE=[ 10, 338, 297, 332, 284, 251, 389, 356, 454, 323, 361, 288, 397, 365, 379, 378, 400,\n",
    "       377, 152, 148, 176, 149, 150, 136, 172, 58, 132, 93, 234, 127, 162, 21, 54, 103,67, 109]\n",
    "\n",
    "face_model = face_mesh.FaceMesh(static_image_mode=STATIC_IMAGE,\n",
    "                                max_num_faces= MAX_NO_FACES,\n",
    "                                min_detection_confidence=DETECTION_CONFIDENCE,\n",
    "                                min_tracking_confidence=TRACKING_CONFIDENCE)\n"
   ]
  },
  {
   "cell_type": "code",
   "execution_count": 341,
   "metadata": {},
   "outputs": [],
   "source": [
    "cap = cv2.VideoCapture(0)\n",
    "\n",
    "frame_count = 0\n",
    "yawn_count = 0\n",
    "min_frame = 5\n",
    "min_tolerance = 4.5"
   ]
  },
  {
   "cell_type": "code",
   "execution_count": 342,
   "metadata": {},
   "outputs": [],
   "source": [
    "while True:\n",
    "    result, image = cap.read()\n",
    "    \n",
    "    if result:\n",
    "        image_rgb = cv2.cvtColor(image, cv2.COLOR_BGR2RGB)\n",
    "        outputs = face_model.process(image_rgb)\n",
    "\n",
    "        if outputs.multi_face_landmarks:\n",
    "           \n",
    "            #draw_landmarks(image, outputs, FACE, COLOR_GREEN)\n",
    "            draw_landmarks(image, outputs, RIGHT_EYE, LBLUE)\n",
    "            draw_landmarks(image, outputs, LEFT_EYE, LBLUE)   \n",
    "                \n",
    "            #draw_landmarks(image, outputs, LEFT_EYE_TOP_BOTTOM, COLOR_RED)\n",
    "            #draw_landmarks(image, outputs, LEFT_EYE_LEFT_RIGHT, COLOR_RED)\n",
    "            \n",
    "            #draw_landmarks(image, outputs, LIPS, WHITE)\n",
    "            \n",
    "            draw_landmarks(image, outputs, FORHEAD, COLOR_GREEN)\n",
    "            \n",
    "            draw_landmarks(image,outputs, NOSE, PURPLE)\n",
    "            \n",
    "            #draw_landmarks(image, outputs, RIGHT_EYE_TOP_BOTTOM, COLOR_RED)\n",
    "            #draw_landmarks(image, outputs, RIGHT_EYE_LEFT_RIGHT, COLOR_RED)\n",
    "            \n",
    "            draw_landmarks(image, outputs, LIP, WHITE)\n",
    "            \n",
    "            draw_landmarks(image, outputs, CHIN, COLOR_A)\n",
    "            \n",
    "            #draw_landmarks(image, outputs, UPPER_LOWER_LIPS , COLOR_BLUE)\n",
    "            #draw_landmarks(image, outputs, LEFT_RIGHT_LIPS, COLOR_BLUE)\n",
    "            draw_landmarks(image, outputs, RIGHT_CHEEK, COLOR_GREEN)\n",
    "            draw_landmarks(image, outputs, LEFT_CHEEK, COLOR_GREEN)\n",
    "           \n",
    "            \n",
    "           \n",
    "        cv2.imshow(\"FACE MESH\", image)\n",
    "        if cv2.waitKey(1) & 255 == 27:\n",
    "            break\n",
    "        \n",
    "        \n",
    "cap.release()\n",
    "cv2.destroyAllWindows()"
   ]
  }
 ],
 "metadata": {
  "kernelspec": {
   "display_name": "Python 3.10.2 64-bit",
   "language": "python",
   "name": "python3"
  },
  "language_info": {
   "codemirror_mode": {
    "name": "ipython",
    "version": 3
   },
   "file_extension": ".py",
   "mimetype": "text/x-python",
   "name": "python",
   "nbconvert_exporter": "python",
   "pygments_lexer": "ipython3",
   "version": "3.10.2"
  },
  "orig_nbformat": 4,
  "vscode": {
   "interpreter": {
    "hash": "4002a90e3d0d102656483c9c5c24dfde6ccbd5848c9305c367f0ddc7b20ddd9a"
   }
  }
 },
 "nbformat": 4,
 "nbformat_minor": 2
}
