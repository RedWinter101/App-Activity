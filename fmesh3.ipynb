{
 "cells": [
  {
   "cell_type": "code",
   "execution_count": 142,
   "metadata": {},
   "outputs": [],
   "source": [
    "import cv2\n",
    "import matplotlib.pyplot as plt\n",
    "import mediapipe as mp\n",
    "#import numpy as np\n",
    "#from scipy.spatial import distance as dis\n",
    "#import pyttsx3\n",
    "import time\n",
    "import os\n",
    "from mediapipe.python.solutions.drawing_utils import _normalized_to_pixel_coordinates as denormalize_coordinates\n"
   ]
  },
  {
   "cell_type": "code",
   "execution_count": 143,
   "metadata": {},
   "outputs": [],
   "source": [
    "def draw_landmarks(image, outputs, land_mark, color):\n",
    "    height, width =image.shape[:2]\n",
    "             \n",
    "    for face in land_mark:\n",
    "        point = outputs.multi_face_landmarks[0].landmark[face]\n",
    "        \n",
    "        point_scale = ((int)(point.x * width), (int)(point.y*height))\n",
    "        \n",
    "        cv2.circle(image, point_scale, 1, color, 1)\n",
    "\n"
   ]
  },
  {
   "cell_type": "code",
   "execution_count": 144,
   "metadata": {},
   "outputs": [],
   "source": [
    "face_mesh = mp.solutions.face_mesh\n",
    "draw_utils = mp.solutions.drawing_utils\n",
    "landmark_style = draw_utils.DrawingSpec((0,255,0), thickness=1, circle_radius=1)\n",
    "connection_style = draw_utils.DrawingSpec((0,0,255), thickness=1, circle_radius=1)"
   ]
  },
  {
   "cell_type": "code",
   "execution_count": 145,
   "metadata": {},
   "outputs": [],
   "source": [
    "STATIC_IMAGE = False\n",
    "MAX_NO_FACES = 1\n",
    "DETECTION_CONFIDENCE = 0.7\n",
    "TRACKING_CONFIDENCE = 0.7\n",
    "LBLUE = (255,255,0)\n",
    "WHITE = (255,255,255)\n",
    "COLOR_RED = (0,0,255)\n",
    "COLOR_BLUE = (255,0,0)\n",
    "COLOR_GREEN = (0,255,0)\n",
    "PURPLE = (255,0,255)\n",
    "COLOR_M = (0,100,0)\n",
    "COLOR_A = (200,0,0)\n",
    "\n",
    "\n",
    "\n",
    "\n",
    "FORHEAD = [10, 338, 297, 332, 284, 251, 21, 54, 103, 67, 109, 21,63,105,66,107,9,336,296,334,293,\n",
    "           104,69,108,151,337,299,333]\n",
    "\n",
    "NOSE = [8,193,244,128,114,217,198,209,129,203,98,97,2,326,327,423,358,429,420,437,343,357,465,417,\n",
    "        168,6,197,195,5,4,1]\n",
    "\n",
    "LIP = [57,186,92,165,167,164,393,391,322,410,287,273,335,406,313,18,83,182,106,43]\n",
    "\n",
    "CHIN = [210,169,150,149,176,148,152,377,400,378,379,430,394,\n",
    "        202,204,194,201,200,421,418,424,422]\n",
    "\n",
    "RIGHT_CHEEK = [127,212,117,119,47,142,206,216,136,172, 58, 132, 93, 234]\n",
    "LEFT_CHEEK = [356,432,454, 346, 348,277,371,426,436,397,288,361,323,365]\n",
    "\n",
    "RIGHT_EYE = [189,55,65,52,53,70,156,35,31,228,229,230,231,232,233,231]\n",
    "LEFT_EYE = [413,285,295,282,283,300,383,265,261,448,449,450,451,452,453]\n",
    "\n",
    "FACEMESH_LEFT_EYEBROW = [276, 283, 283, 282, 282, 295, 295, 285, 300, 293, 293, 334,\n",
    "                        334, 296, 296, 336]\n",
    "\n",
    "FACEMESH_LEFT_EYE = [263, 249, 249, 390, 390, 373, 373, 374,\n",
    "                        374, 380, 380, 381, 381, 382, 382, 362,\n",
    "                        263, 466, 466, 388, 388, 387, 387, 386,\n",
    "                        386, 385, 385, 384, 384, 398, 398, 362]\n",
    "\n",
    "FACEMESH_RIGHT_EYE = [33, 7, 7, 163, 163, 144, 144, 145,\n",
    "                        145, 153, 153, 154, 154, 155, 155, 133,\n",
    "                        33, 246, 246, 161, 161, 160, 160, 159,\n",
    "                        159, 158, 158, 157, 157, 173, 173, 133]\n",
    "\n",
    "face_model = face_mesh.FaceMesh(refine_landmarks = True, static_image_mode=STATIC_IMAGE,\n",
    "                                max_num_faces= MAX_NO_FACES,\n",
    "                                min_detection_confidence=DETECTION_CONFIDENCE,\n",
    "                                min_tracking_confidence=TRACKING_CONFIDENCE)\n"
   ]
  },
  {
   "cell_type": "code",
   "execution_count": 146,
   "metadata": {},
   "outputs": [],
   "source": [
    "cap = cv2.VideoCapture(0)"
   ]
  },
  {
   "cell_type": "code",
   "execution_count": 147,
   "metadata": {},
   "outputs": [],
   "source": [
    "while True:\n",
    "    result, image = cap.read()\n",
    "    \n",
    "    if result:\n",
    "        image_rgb = cv2.cvtColor(image, cv2.COLOR_BGR2RGB)\n",
    "        outputs = face_model.process(image_rgb)\n",
    "\n",
    "        if outputs.multi_face_landmarks:\n",
    "\n",
    "            draw_landmarks(image, outputs, RIGHT_EYE, LBLUE)\n",
    "            draw_landmarks(image, outputs, LEFT_EYE, LBLUE)   \n",
    "            \n",
    "            draw_landmarks(image, outputs, FORHEAD, COLOR_GREEN)\n",
    "            \n",
    "            draw_landmarks(image,outputs, NOSE, PURPLE)\n",
    "            \n",
    "            draw_landmarks(image, outputs, LIP, WHITE)\n",
    "            \n",
    "            draw_landmarks(image, outputs, CHIN, COLOR_A)\n",
    "            \n",
    "            draw_landmarks(image, outputs, FACEMESH_RIGHT_EYE , COLOR_BLUE)\n",
    "            draw_landmarks(image, outputs, FACEMESH_LEFT_EYE, COLOR_BLUE)\n",
    "            \n",
    "            draw_landmarks(image, outputs, RIGHT_CHEEK, COLOR_RED)\n",
    "            draw_landmarks(image, outputs, LEFT_CHEEK, COLOR_RED)\n",
    "           \n",
    "        cv2.imshow(\"FACE MESH\", image)\n",
    "        if cv2.waitKey(1) & 255 == 27:\n",
    "            break\n",
    "        \n",
    "        \n",
    "cap.release()\n",
    "cv2.destroyAllWindows()"
   ]
  }
 ],
 "metadata": {
  "kernelspec": {
   "display_name": "Python 3.10.2 64-bit",
   "language": "python",
   "name": "python3"
  },
  "language_info": {
   "codemirror_mode": {
    "name": "ipython",
    "version": 3
   },
   "file_extension": ".py",
   "mimetype": "text/x-python",
   "name": "python",
   "nbconvert_exporter": "python",
   "pygments_lexer": "ipython3",
   "version": "3.10.2"
  },
  "orig_nbformat": 4,
  "vscode": {
   "interpreter": {
    "hash": "4002a90e3d0d102656483c9c5c24dfde6ccbd5848c9305c367f0ddc7b20ddd9a"
   }
  }
 },
 "nbformat": 4,
 "nbformat_minor": 2
}
